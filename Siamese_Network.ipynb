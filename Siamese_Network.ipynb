{
  "nbformat": 4,
  "nbformat_minor": 0,
  "metadata": {
    "colab": {
      "name": "Siamese Network",
      "provenance": [],
      "collapsed_sections": [],
      "authorship_tag": "ABX9TyOqeU8/QtJL6G4cmJvDaVAA",
      "include_colab_link": true
    },
    "kernelspec": {
      "name": "python3",
      "display_name": "Python 3"
    },
    "accelerator": "GPU"
  },
  "cells": [
    {
      "cell_type": "markdown",
      "metadata": {
        "id": "view-in-github",
        "colab_type": "text"
      },
      "source": [
        "<a href=\"https://colab.research.google.com/github/shreyanshchordia/Faces/blob/master/Siamese_Network.ipynb\" target=\"_parent\"><img src=\"https://colab.research.google.com/assets/colab-badge.svg\" alt=\"Open In Colab\"/></a>"
      ]
    },
    {
      "cell_type": "markdown",
      "metadata": {
        "id": "EDMURKIHPI7E",
        "colab_type": "text"
      },
      "source": [
        "# Siamese Neural Network\n",
        "\n",
        "Siamese neural network is a class of neural network architectures that contain two or more identical sub networks. identical here means they have the same configuration with the same parameters and weights. Parameter updating is mirrored across both sub networks.It is used find the similarity of the inputs by comparing its feature vectors.\n",
        "\n",
        "For more details check this blog : https://innovationincubator.com/siamaese-neural-network-with-paytorch-code-example/"
      ]
    },
    {
      "cell_type": "markdown",
      "metadata": {
        "id": "vLqOxtMiPgSJ",
        "colab_type": "text"
      },
      "source": [
        "## Steps to create classifier using Siamese Neural Network \n",
        "\n",
        "\n",
        "1.   **Data Preprocessing**\n",
        "2.   **Define the Siamese Network**\n",
        "3.   **Feature Vector Extraction**\n",
        "4.   **Similarity Score Calculation**\n",
        "5.   **Defininf Loss Function**\n",
        "6.   **Optimizer**\n",
        "7.   **Testing using One-Shot Learnig**\n",
        "8.   **Making Predictions**\n",
        "\n"
      ]
    },
    {
      "cell_type": "markdown",
      "metadata": {
        "id": "EQVRApGcQiKR",
        "colab_type": "text"
      },
      "source": [
        "Let's  go step wise "
      ]
    },
    {
      "cell_type": "code",
      "metadata": {
        "id": "esGrw0waQlwP",
        "colab_type": "code",
        "colab": {}
      },
      "source": [
        "# Import all the necessary Library \n",
        "import torchvision\n",
        "import torch.utils.data as utils\n",
        "from torchvision import datasets\n",
        "import torchvision.transforms as transforms\n",
        "from torch.utils.data import DataLoader, Dataset\n",
        "import matplotlib.pyplot as plt\n",
        "import torchvision.utils\n",
        "import numpy as np\n",
        "import time\n",
        "import torch \n",
        "import torch.nn as nn\n",
        "import torch.nn.functional as F\n",
        "import pandas as pd \n"
      ],
      "execution_count": 0,
      "outputs": []
    },
    {
      "cell_type": "markdown",
      "metadata": {
        "id": "wEJiWZVGIsot",
        "colab_type": "text"
      },
      "source": [
        "##Load Dataset"
      ]
    },
    {
      "cell_type": "code",
      "metadata": {
        "id": "TnOghSpi9005",
        "colab_type": "code",
        "outputId": "34e634aa-af9b-4bd0-b646-b41aa268d924",
        "colab": {
          "base_uri": "https://localhost:8080/",
          "height": 81
        }
      },
      "source": [
        "from sklearn.datasets import fetch_lfw_pairs\n",
        "import matplotlib.pyplot as plt\n",
        "import numpy as np\n",
        "from sklearn.datasets import fetch_lfw_people\n",
        "import keras"
      ],
      "execution_count": 0,
      "outputs": [
        {
          "output_type": "stream",
          "text": [
            "Using TensorFlow backend.\n"
          ],
          "name": "stderr"
        },
        {
          "output_type": "display_data",
          "data": {
            "text/html": [
              "<p style=\"color: red;\">\n",
              "The default version of TensorFlow in Colab will soon switch to TensorFlow 2.x.<br>\n",
              "We recommend you <a href=\"https://www.tensorflow.org/guide/migrate\" target=\"_blank\">upgrade</a> now \n",
              "or ensure your notebook will continue to use TensorFlow 1.x via the <code>%tensorflow_version 1.x</code> magic:\n",
              "<a href=\"https://colab.research.google.com/notebooks/tensorflow_version.ipynb\" target=\"_blank\">more info</a>.</p>\n"
            ],
            "text/plain": [
              "<IPython.core.display.HTML object>"
            ]
          },
          "metadata": {
            "tags": []
          }
        }
      ]
    },
    {
      "cell_type": "code",
      "metadata": {
        "id": "9pj-T2glebhd",
        "colab_type": "code",
        "colab": {}
      },
      "source": [
        "lfw_people = fetch_lfw_people(min_faces_per_person=10)"
      ],
      "execution_count": 0,
      "outputs": []
    },
    {
      "cell_type": "code",
      "metadata": {
        "id": "31QXS9c-cWTC",
        "colab_type": "code",
        "outputId": "a56bae1e-30ef-4614-e337-96be0df2da16",
        "colab": {
          "base_uri": "https://localhost:8080/",
          "height": 34
        }
      },
      "source": [
        "print(lfw_people.data.shape,lfw_people.images.shape,lfw_people.target.shape,lfw_people.target_names.shape)"
      ],
      "execution_count": 0,
      "outputs": [
        {
          "output_type": "stream",
          "text": [
            "(4324, 2914) (4324, 62, 47) (4324,) (158,)\n"
          ],
          "name": "stdout"
        }
      ]
    },
    {
      "cell_type": "code",
      "metadata": {
        "id": "DunURe4hVVOl",
        "colab_type": "code",
        "colab": {}
      },
      "source": [
        "data = [None]*lfw_people.target.shape[0]\n",
        "for i in range(len(data)):\n",
        "  data[i]=[]\n",
        "  data[i].append(lfw_people.target[i,])\n",
        "  data[i].append(lfw_people.target_names[data[i][0],])\n",
        "  data[i].append(lfw_people.data[i,:])"
      ],
      "execution_count": 0,
      "outputs": []
    },
    {
      "cell_type": "code",
      "metadata": {
        "id": "JQ7409YHYIj1",
        "colab_type": "code",
        "colab": {}
      },
      "source": [
        "image_dict = {}\n",
        "for i in lfw_people.target_names:\n",
        "  image_dict[i]=[]\n",
        "\n",
        "for i in data:\n",
        "  image_dict[i[1]].append(i[2])"
      ],
      "execution_count": 0,
      "outputs": []
    },
    {
      "cell_type": "code",
      "metadata": {
        "id": "1sTMOzRzdPLp",
        "colab_type": "code",
        "outputId": "f4de693c-9f0a-4fbb-cc1c-29972ab50454",
        "colab": {
          "base_uri": "https://localhost:8080/",
          "height": 34
        }
      },
      "source": [
        "sum=0\n",
        "for i in image_dict.values():\n",
        "  sum+=len(i)\n",
        "print(sum)"
      ],
      "execution_count": 0,
      "outputs": [
        {
          "output_type": "stream",
          "text": [
            "4324\n"
          ],
          "name": "stdout"
        }
      ]
    },
    {
      "cell_type": "code",
      "metadata": {
        "id": "0D1ESYvTkZFh",
        "colab_type": "code",
        "colab": {}
      },
      "source": [
        "import random"
      ],
      "execution_count": 0,
      "outputs": []
    },
    {
      "cell_type": "code",
      "metadata": {
        "id": "hYNElpCUfcW_",
        "colab_type": "code",
        "colab": {}
      },
      "source": [
        "dataset = [None]*(len(data)*1)\n",
        "index = 0\n",
        "# each sample of the dataset must have an achor,positive and negative\n",
        "# I have 4324 images. If using each image I generate 1 sample, then I get a training data of size 4324\n",
        "# I have data and image_dict\n",
        "# data has all the images along with their label\n",
        "# image_dict has seperated images using label names\n",
        "for i in data:\n",
        "    dataset[index]=[]\n",
        "    dataset[index].append(i[2]) # 0\n",
        "    temp = random.randrange(len(image_dict[i[1]])) \n",
        "    dataset[index].append(image_dict[i[1]][temp]) # 1\n",
        "    temp = random.randrange(len(data))\n",
        "    if(data[temp][0]==i[0]) : temp = (temp+1)%len(data)\n",
        "    dataset[index].append(data[temp][2]) # 2\n",
        "    dataset[index].append([i[1],i[1],data[temp][1]]) # label\n",
        "    index+=1"
      ],
      "execution_count": 0,
      "outputs": []
    },
    {
      "cell_type": "code",
      "metadata": {
        "id": "ODHaxpugtvu3",
        "colab_type": "code",
        "outputId": "41476d39-7b6a-4a8a-836a-7d6b04691e56",
        "colab": {
          "base_uri": "https://localhost:8080/",
          "height": 247
        }
      },
      "source": [
        "print(len(dataset))\n",
        "print(dataset[0],dataset[10],dataset[1000],sep=\"\\n\")"
      ],
      "execution_count": 0,
      "outputs": [
        {
          "output_type": "stream",
          "text": [
            "4324\n",
            "[array([95.333336, 80.666664, 95.      , ..., 35.      , 39.      ,\n",
            "       40.      ], dtype=float32), array([95.333336, 80.666664, 95.      , ..., 35.      , 39.      ,\n",
            "       40.      ], dtype=float32), array([ 94.666664,  93.666664, 100.      , ...,  63.666668,  58.      ,\n",
            "        55.333332], dtype=float32), ['Jacques Chirac', 'Jacques Chirac', 'Hillary Clinton']]\n",
            "[array([ 10.       ,   7.3333335,   5.       , ..., 159.33333  ,\n",
            "       161.33333  , 158.33333  ], dtype=float32), array([100.333336,  90.666664,  66.666664, ...,  84.      ,  75.      ,\n",
            "        58.333332], dtype=float32), array([ 47.      ,  59.666668,  74.      , ..., 225.33333 , 224.66667 ,\n",
            "       223.66667 ], dtype=float32), ['Gloria Macapagal Arroyo', 'Gloria Macapagal Arroyo', 'Jean-David Levitte']]\n",
            "[array([ 10.666667,  11.333333,  45.      , ..., 183.33333 , 185.      ,\n",
            "       189.66667 ], dtype=float32), array([145.      , 141.33333 , 144.      , ..., 143.66667 ,  52.      ,\n",
            "        12.333333], dtype=float32), array([34.666668, 32.666668, 27.      , ..., 16.666666, 13.      ,\n",
            "       11.      ], dtype=float32), ['Colin Powell', 'Colin Powell', 'Jackie Chan']]\n"
          ],
          "name": "stdout"
        }
      ]
    },
    {
      "cell_type": "markdown",
      "metadata": {
        "id": "l4LisaWBuKRn",
        "colab_type": "text"
      },
      "source": [
        "Our dataset is ready with 4324 samples to train our siamese model over"
      ]
    },
    {
      "cell_type": "code",
      "metadata": {
        "id": "icbREhBouWCe",
        "colab_type": "code",
        "outputId": "3f1a8946-a55f-4578-e1ef-49ee63ba9bc7",
        "colab": {
          "base_uri": "https://localhost:8080/",
          "height": 34
        }
      },
      "source": [
        "dataset = np.array(dataset)\n",
        "dataset = dataset[:,0:3]\n",
        "print(dataset.shape)"
      ],
      "execution_count": 0,
      "outputs": [
        {
          "output_type": "stream",
          "text": [
            "(4324, 3)\n"
          ],
          "name": "stdout"
        }
      ]
    },
    {
      "cell_type": "markdown",
      "metadata": {
        "id": "pBOpcs9KRjWm",
        "colab_type": "text"
      },
      "source": [
        "### Preprocessing and Loading Dataset\n",
        "\n",
        "We preprocessed all the images and loaded them as .npy files which is easy to transfer . You can follow your own preprocessing steps .\n"
      ]
    },
    {
      "cell_type": "code",
      "metadata": {
        "id": "VC5JhgpcPmP6",
        "colab_type": "code",
        "colab": {}
      },
      "source": [
        "class SiameseNetworkDataset():\n",
        "    \n",
        "    def __init__(self,data=None,transform=None):\n",
        "        # used to prepare the labels and images path\n",
        "        self.data = data \n",
        "        self.transform = transform\n",
        "\n",
        "    def __getitem__(self,index):\n",
        "        \n",
        "        img0 = torch.tensor(self.data[index][0].reshape(62,47))\n",
        "        img1 = torch.tensor(self.data[index][1].reshape(62,47))\n",
        "        img2 = torch.tensor(self.data[index][2].reshape(62,47))\n",
        "        # Apply image transformations\n",
        "        if self.transform is not None:\n",
        "            img0 = self.transform(img0)\n",
        "            img1 = self.transform(img1)\n",
        "            img2 = self.transform(img2)\n",
        "        \n",
        "        return img0,img1,img2\n",
        "    \n",
        "    def __len__(self):\n",
        "        return len(self.data)"
      ],
      "execution_count": 0,
      "outputs": []
    },
    {
      "cell_type": "code",
      "metadata": {
        "id": "Ws1NipMUQaI3",
        "colab_type": "code",
        "colab": {}
      },
      "source": [
        "# Load the the dataset from raw image folders\n",
        "siamese_dataset = SiameseNetworkDataset(dataset)"
      ],
      "execution_count": 0,
      "outputs": []
    },
    {
      "cell_type": "code",
      "metadata": {
        "id": "eTpprbksZS80",
        "colab_type": "code",
        "colab": {}
      },
      "source": [
        "# Viewing the sample of images and to check whether its loading properly\n",
        "vis_dataloader = DataLoader(siamese_dataset,\n",
        "                        shuffle=True,\n",
        "                        batch_size=8)\n",
        "dataiter = iter(vis_dataloader)\n",
        "\n",
        "\n",
        "example_batch = next(dataiter)\n",
        "print(example_batch[0].size())\n",
        "print(example_batch[1].size())\n",
        "print(example_batch[2].size())"
      ],
      "execution_count": 0,
      "outputs": []
    },
    {
      "cell_type": "markdown",
      "metadata": {
        "id": "5xhlmF-nj6_v",
        "colab_type": "text"
      },
      "source": [
        "## Siamese Network Definition"
      ]
    },
    {
      "cell_type": "code",
      "metadata": {
        "id": "MjkBkyTomlU6",
        "colab_type": "code",
        "colab": {}
      },
      "source": [
        "class SiameseNetwork(nn.Module):\n",
        "    def __init__(self):\n",
        "        super(SiameseNetwork, self).__init__()\n",
        "        \n",
        "        # Setting up the Sequential of CNN Layers\n",
        "        self.cnn1 = nn.Sequential(\n",
        "            nn.Conv2d(1, 96, kernel_size=11,stride=1),\n",
        "            nn.ReLU(inplace=True),\n",
        "            nn.LocalResponseNorm(5,alpha=0.0001,beta=0.75,k=2),\n",
        "            nn.MaxPool2d(3, stride=2),\n",
        "            \n",
        "            nn.Conv2d(96, 256, kernel_size=5,stride=1,padding=2),\n",
        "            nn.ReLU(inplace=True),\n",
        "            nn.LocalResponseNorm(5,alpha=0.0001,beta=0.75,k=2),\n",
        "            nn.MaxPool2d(3, stride=2),\n",
        "            nn.Dropout2d(p=0.3),\n",
        "\n",
        "            nn.Conv2d(256,384 , kernel_size=3,stride=1,padding=1),\n",
        "            nn.ReLU(inplace=True),\n",
        "            nn.Conv2d(384,256 , kernel_size=3,stride=1,padding=1),\n",
        "            nn.ReLU(inplace=True),\n",
        "            nn.MaxPool2d(3, stride=2),\n",
        "            nn.Dropout2d(p=0.3),\n",
        "\n",
        "        )\n",
        "        \n",
        "        # Defining the fully connected layers\n",
        "        self.fc1 = nn.Sequential(\n",
        "            nn.Linear(3840, 1024),\n",
        "            nn.ReLU(inplace=True),\n",
        "            nn.Dropout2d(p=0.5),\n",
        "            \n",
        "            nn.Linear(1024, 128),\n",
        "            nn.ReLU(inplace=True),\n",
        "            \n",
        "            nn.Linear(128,2))\n",
        "        \n",
        "  \n",
        "  \n",
        "    def forward_once(self, x):\n",
        "        # Forward pass \n",
        "        output = self.cnn1(x)\n",
        "        output = output.view(output.size()[0], -1)\n",
        "        output = self.fc1(output)\n",
        "        return output\n",
        "\n",
        "    def forward(self, input1, input2,input3):\n",
        "        # forward pass of input 1\n",
        "        output1 = self.forward_once(input1)\n",
        "        # forward pass of input 2\n",
        "        output2 = self.forward_once(input2)\n",
        "        # forward pass of input 3\n",
        "        output3 = self.forward_once(input3)\n",
        "        return output1, output2, output3\n"
      ],
      "execution_count": 0,
      "outputs": []
    },
    {
      "cell_type": "markdown",
      "metadata": {
        "id": "2xaKRzCV-vBD",
        "colab_type": "text"
      },
      "source": [
        "### Loss Function"
      ]
    },
    {
      "cell_type": "code",
      "metadata": {
        "id": "nBjCIlhWk2MT",
        "colab_type": "code",
        "colab": {}
      },
      "source": [
        "class TripleLoss(torch.nn.Module):\n",
        "\n",
        "    def __init__(self, margin=2.0):\n",
        "        super(TripleLoss, self).__init__()\n",
        "        self.margin = margin\n",
        "\n",
        "    def forward(self, anchor , positive , negative):\n",
        "        d_ap = F.pairwise_distance(anchor, positive)\n",
        "        d_an = F.pairwise_distance(anchor, negative)\n",
        "        x = (d_ap - d_an + self.margin).float().mean()\n",
        "        if x>0:\n",
        "          triple_loss = x\n",
        "        else: triple_loss = x - x\n",
        "\n",
        "        return triple_loss"
      ],
      "execution_count": 0,
      "outputs": []
    },
    {
      "cell_type": "markdown",
      "metadata": {
        "id": "UyGA_GUt-0xp",
        "colab_type": "text"
      },
      "source": [
        "### Train the Model"
      ]
    },
    {
      "cell_type": "code",
      "metadata": {
        "id": "xO9uIznkXiB0",
        "colab_type": "code",
        "colab": {}
      },
      "source": [
        "# Load the dataset as pytorch tensors using dataloader\n",
        "train_dataloader = DataLoader(siamese_dataset,\n",
        "                        shuffle=True,\n",
        "                        num_workers=8,\n",
        "                        batch_size=256)"
      ],
      "execution_count": 0,
      "outputs": []
    },
    {
      "cell_type": "code",
      "metadata": {
        "id": "tspmR_2bd824",
        "colab_type": "code",
        "outputId": "1600bceb-7308-43e7-e68c-d5eccd26d04c",
        "colab": {
          "base_uri": "https://localhost:8080/",
          "height": 34
        }
      },
      "source": [
        "# Check whether you have GPU is loaded or not\n",
        "if torch.cuda.is_available():\n",
        "    print('Yes')"
      ],
      "execution_count": 0,
      "outputs": [
        {
          "output_type": "stream",
          "text": [
            "Yes\n"
          ],
          "name": "stdout"
        }
      ]
    },
    {
      "cell_type": "code",
      "metadata": {
        "id": "dPnzoTXfE5cX",
        "colab_type": "code",
        "colab": {}
      },
      "source": [
        "# Declare Siamese Network\n",
        "net = SiameseNetwork().cuda()\n",
        "# Decalre Loss Function\n",
        "criterion = TripleLoss()\n",
        "# Declare Optimizer\n",
        "optimizer = torch.optim.Adam(net.parameters(),lr=0.001)"
      ],
      "execution_count": 0,
      "outputs": []
    },
    {
      "cell_type": "code",
      "metadata": {
        "id": "6aUJOhkrFfu9",
        "colab_type": "code",
        "colab": {}
      },
      "source": [
        "def train():\n",
        "    counter = []\n",
        "    loss_history = [] \n",
        "    iteration_number= 0\n",
        "    \n",
        "    for epoch in range(0,epochs):\n",
        "        temp=[]\n",
        "        for i, data in enumerate(train_dataloader,0):\n",
        "            img0, img1 , img2 = data\n",
        "            img0, img1 , img2 = img0.cuda(), img1.cuda() , img2.cuda()\n",
        "            optimizer.zero_grad()\n",
        "            img0 = img0.reshape(-1,1,62,47)\n",
        "            img1 = img1.reshape(-1,1,62,47)\n",
        "            img2 = img2.reshape(-1,1,62,47)\n",
        "            output1,output2,output3 = net(img0,img1,img2)\n",
        "            loss = criterion(output1,output2,output3)\n",
        "            loss.backward()\n",
        "            optimizer.step()\n",
        "            temp.append(loss.item())\n",
        "        loss_history.append(np.asarray(temp).mean())\n",
        "        print(loss_history[-1])\n",
        "    \n",
        "    plt.plot(loss_history)\n",
        "    plt.show()\n",
        "    return net"
      ],
      "execution_count": 0,
      "outputs": []
    },
    {
      "cell_type": "code",
      "metadata": {
        "id": "oDx471-mBDGD",
        "colab_type": "code",
        "outputId": "7aa1a72d-b320-43a4-944e-51cbdd9c9358",
        "colab": {
          "base_uri": "https://localhost:8080/",
          "height": 460
        }
      },
      "source": [
        "epochs= 10\n",
        "batchsize=256\n",
        "device = torch.device('cuda' if torch.cuda.is_available() else 'cpu')\n",
        "# Train the model\n",
        "model = train()\n",
        "torch.save(model.state_dict(), \"/content/model.pt\")\n",
        "print(\"Model Saved Successfully\")"
      ],
      "execution_count": 0,
      "outputs": [
        {
          "output_type": "stream",
          "text": [
            "4.257913796340718\n",
            "2.1230578001807716\n",
            "2.699061393737793\n",
            "1.7247612897087545\n",
            "1.5363181969698738\n",
            "0.67587490642772\n",
            "0.18471094440011418\n",
            "0.20510726816513958\n",
            "0.4904266806209789\n",
            "0.9190531969070435\n"
          ],
          "name": "stdout"
        },
        {
          "output_type": "display_data",
          "data": {
            "image/png": "[encoded data removed]",
            "text/plain": [
              "<Figure size 432x288 with 1 Axes>"
            ]
          },
          "metadata": {
            "tags": []
          }
        },
        {
          "output_type": "stream",
          "text": [
            "Model Saved Successfully\n"
          ],
          "name": "stdout"
        }
      ]
    },
    {
      "cell_type": "code",
      "metadata": {
        "id": "3YcvO7iVof7r",
        "colab_type": "code",
        "colab": {}
      },
      "source": [
        "torch.cuda.empty_cache()"
      ],
      "execution_count": 0,
      "outputs": []
    },
    {
      "cell_type": "code",
      "metadata": {
        "id": "-EH_2bML3v2W",
        "colab_type": "code",
        "outputId": "cc257d22-9729-4593-83c8-3f87bf1e5fbf",
        "colab": {
          "base_uri": "https://localhost:8080/",
          "height": 34
        }
      },
      "source": [
        "# Load the saved model\n",
        "device = torch.device('cuda' if torch.cuda.is_available() else 'cpu')\n",
        "model = SiameseNetwork()\n",
        "model.load_state_dict(torch.load(\"/content/model.pt\"))"
      ],
      "execution_count": 0,
      "outputs": [
        {
          "output_type": "execute_result",
          "data": {
            "text/plain": [
              "<All keys matched successfully>"
            ]
          },
          "metadata": {
            "tags": []
          },
          "execution_count": 134
        }
      ]
    },
    {
      "cell_type": "markdown",
      "metadata": {
        "id": "Lo5Jl-txHNHX",
        "colab_type": "text"
      },
      "source": [
        "### Accuracy Check"
      ]
    },
    {
      "cell_type": "code",
      "metadata": {
        "id": "OwwAtc6sTliR",
        "colab_type": "code",
        "colab": {}
      },
      "source": [
        "def cal_dist(a1,a2):\n",
        "  return F.pairwise_distance(a1,a2)"
      ],
      "execution_count": 0,
      "outputs": []
    },
    {
      "cell_type": "code",
      "metadata": {
        "id": "CZHnXdNFS0Fy",
        "colab_type": "code",
        "outputId": "73043c6d-8a11-4b41-9a3d-dbcca0a24871",
        "colab": {
          "base_uri": "https://localhost:8080/",
          "height": 52
        }
      },
      "source": [
        "sim_arr=[]\n",
        "dissim_arr=[]\n",
        "for i in dataset[0:100,:]:\n",
        "  with torch.no_grad():\n",
        "    img0 = torch.tensor(i[0].reshape(-1,1,62,47))\n",
        "    img1 = torch.tensor(i[1].reshape(-1,1,62,47))\n",
        "    img2 = torch.tensor(i[2].reshape(-1,1,62,47))\n",
        "    a,p,n = model(img0,img1,img2)\n",
        "    sim_arr.append(cal_dist(a,p))\n",
        "    dissim_arr.append(cal_dist(a,n))\n",
        "s = np.asarray(sim_arr).mean()\n",
        "d = np.asarray(dissim_arr).mean()\n",
        "print(\"Mean distance between the embeddings of Similar images is\",s)\n",
        "print(\"Mean distance between the embeddings of Dissimilar images is\",d)"
      ],
      "execution_count": 0,
      "outputs": [
        {
          "output_type": "stream",
          "text": [
            "Mean distance between the embeddings of Similar images is 77.63261\n",
            "Mean distance between the embeddings of Dissimilar images is 96.963\n"
          ],
          "name": "stdout"
        }
      ]
    },
    {
      "cell_type": "markdown",
      "metadata": {
        "id": "DzU46xtYh3L8",
        "colab_type": "text"
      },
      "source": [
        "So even on just 5 epochs, my model is taking a large amount of time.\n",
        "\n",
        "My focus is not on building a perfectly trained Siamese Network for one shot learning, rather my focus is on understanding that how exactly a siamese network is able to do this.\n",
        "\n",
        "The triple loss focuses on increasing the distance between the embeddings of dissimliar image in every step. If we have enough time and computation power then training this model with even better samples and for larger number of epochs  we can build a very strong siamese network that can produce perfect embeddings for face recognition.  "
      ]
    },
    {
      "cell_type": "code",
      "metadata": {
        "id": "EOrN15LCp7jB",
        "colab_type": "code",
        "colab": {}
      },
      "source": [
        ""
      ],
      "execution_count": 0,
      "outputs": []
    }
  ]
}